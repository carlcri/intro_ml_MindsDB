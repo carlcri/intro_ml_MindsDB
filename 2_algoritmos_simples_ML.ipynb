{
 "cells": [
  {
   "cell_type": "markdown",
   "metadata": {},
   "source": [
    "## La “receta” para aplicar algoritmos de machine learning"
   ]
  },
  {
   "cell_type": "markdown",
   "metadata": {},
   "source": [
    "**Receta de algoritmos ML**\n",
    "\n",
    "Si te preguntas como un algoritmo de ML es capaz de hacer predicciones, y como hacen para responder a la pregunta o situacion planteada, tenemos que destacar que es proceso que contempla tres pasos de forma general\n",
    "\n",
    "1. **Proceso de decisión**: cómo los modelos hacen una predicción, o retornan una respuesta, usando los parámetros. Este es el *proceso en perse*\n",
    "2. **Función de error/coste**: cómo evaluar si los parámetros en el modelo generan buenas predicciones.\n",
    "3. **Regla de actualización**: cómo mejorar los parámetros para hacer mejores predicciones (usando optimización numérica).\n",
    "\n",
    "\n",
    "Asi que con estos tres ingredientes en mente, vamos a pensar en una forma de como alimentar nuestro algoritmos de Machine Learning. \n",
    "\n",
    "En primer lugar, hablamos de la normalizacion de datos numericos, como ya sabemos es un concepto muy usado en estadistica\n",
    "\n",
    "Para cada columna de tu dataset con valores numéricos:\n",
    "\n",
    "1. Calcular el promedio de tus datos (μ).\n",
    "2. Calcular la desviación estándar (σ) de tus datos.\n",
    "3. Para cada punto de datos, realizar:\n",
    "\n",
    "# $\\tilde{x_i}=\\frac{x_i -\\mu }{\\sigma}$\n",
    "\n",
    "Es una practica muy comun normalizar los datos, aunque no siempre se hace.\n",
    "\n",
    "**Nota**. Para aprender a renderizar equations en Latex, dejo un documento compartido como un *Cheat Sheet* donde esta todo super claro. [https://drive.google.com/file/d/1aXJ0Aslmp3QdbJEp3NkNrFzw6nJ40B9D/view?usp=sharing]\n",
    "\n"
   ]
  },
  {
   "cell_type": "markdown",
   "metadata": {},
   "source": [
    "Lo que sigue a continuacion es lo que se hace realmente con el conjunto de datos:\n",
    "\n",
    "![](./images/prepare.PNG)\n",
    "\n",
    "como ves en arriba, hay tres formas de dividir el dataset: entrenamiento, validacion y prueba. "
   ]
  },
  {
   "cell_type": "markdown",
   "metadata": {},
   "source": [
    "Ver tambien: https://platzi.com/tutoriales/2353-estadistica-descriptiva/12040-ejemplo-de-escalamiento-de-datos-con-la-funcion-tanh/"
   ]
  },
  {
   "cell_type": "markdown",
   "metadata": {},
   "source": [
    "## REGRESION LINEAL\n",
    "\n",
    "Puede ser:\n",
    "\n",
    "- lineal positiva\n",
    "- lineal negativa\n",
    "- No lineal\n",
    "\n",
    "Vamos a dividir la exposicion en cuatro partes:\n",
    "\n",
    "1. El proceso de decision. Cuales son los parametros necesarios, y su significado dentro de una *regresion lineal*\n",
    "2. La Funcion de Error: Saber como el modelo esta haciendo buenas predicciones o no.\n",
    "3. La regla de actualizacion, que esta haciendo el modelo y de esta forma obtener mejores parametros. \n",
    "4. Evaluar si el modelo de regresion fue el indicado para modelar la varible numerica del objetivo como tal.     \n",
    "\n",
    "### Proceso de decision:\n",
    "\n",
    "![](./images/linear.PNG)\n",
    "\n",
    "Podemos pensar que $w_1$ como pesos o *weights*y $w_0$ como *bias*. Es como tener la combinacion correcta de *weights* and *biases* para predecir una salida. \n",
    "\n",
    "### Funcion de Error/Coste\n",
    "\n",
    "![](./images/cost.PNG)\n",
    "\n",
    "### Regla de actualizacion\n",
    "\n",
    "![](./images/update.PNG)\n",
    "\n"
   ]
  },
  {
   "cell_type": "markdown",
   "metadata": {},
   "source": [
    "### Rendimiento\n",
    "\n",
    "Como saber si el modelo de ML lo esta haciendo bien o no.\n",
    "\n",
    "![](./images/rendimiento.PNG)\n",
    "\n",
    "Como puedes ver podemos usar para el caso de la regresion lineal el **MSE(MEAN SQUARE ERROR)** o **$R^2$**. Y de acuerdo a estos valores podemos afirmar si la relacion es Fuerte-Strong o Debil-Weak. Por ejemplo, para el caso de *$R^2$* un valor cercano a uno implica una relacion Fuerte, mientras que a medida que se acerca a cero, pues sera cada vez mas y mas debil.\n",
    "\n",
    "Lectura: https://platzi.com/tutoriales/1766-regresion-python/11159-de-donde-viene-el-algoritmo-de-regresion-lineal/\n",
    "\n"
   ]
  }
 ],
 "metadata": {
  "language_info": {
   "name": "python"
  },
  "orig_nbformat": 4
 },
 "nbformat": 4,
 "nbformat_minor": 2
}
