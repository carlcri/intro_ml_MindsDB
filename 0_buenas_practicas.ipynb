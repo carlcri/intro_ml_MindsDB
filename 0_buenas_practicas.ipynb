{
 "cells": [
  {
   "cell_type": "markdown",
   "metadata": {},
   "source": [
    "# Buenas practicas para el modulo"
   ]
  },
  {
   "cell_type": "markdown",
   "metadata": {},
   "source": [
    "Antes de instalar las dependencias necesarias para realizar los mismos ejercicios que realizamos en DEEPNOTE en el entorno local. QUiero mostrar una de las buenas practicas para tener en cuenta de ahora en adelante, y es contar con un archivo llamado **requirements.txt**\n",
    "\n",
    "Sobre el ambiente virtual que esta corriendo este proyecto, *Visual Estudio Code* me sugirio automaticamente instalar *ipkernel*, y manualmente instale pandas, matplotlib \n",
    "\n",
    "    pip install pandas\n",
    "    pip install matplotlib\n",
    "\n",
    "y con el comando *freeze* me muestra las dependencias instaladas hasta ahora con sus respectivas versiones. \n",
    "\n",
    "    pip freeze\n",
    "\n",
    "voy a generar automaticamente un archivo de *requirements.txt* de manera automatica:\n",
    "\n",
    "    pip freeze > requirements.txt\n",
    "\n",
    "Pero este archivo contine demasiadas dependencias, veamos si lo podemos simplificar. Vamos a desactivar el ambiente virtual, y a borrarlo. Y despues activar el nuevo\n",
    "\n",
    "    virtualenv env\n",
    "    source env/bin/activate\n",
    "\n",
    "Verificamos que no hay dependencias instaladas en el ambiente virtual\n",
    "\n",
    "    pip freeze\n",
    "\n",
    "Modificamos el *requirements.txt* para que solo tenga pandas, matplotlib, y ipkernel, y ejecutemos el siguiente comando:\n",
    "\n",
    "     pip3 install -r requirements.txt\n",
    "\n",
    "Al parecer cuando ejecuto *pip freeze* despues del comando anterior, es como si no hubiera instalado nada. Asi que voya remover *ipkernel* de *requirements.txt* para que solo tenga pandas, numpy y matplotlib. Y *ipkernel* lo voy a instalar desde *Visual Studio Code*\n",
    "\n",
    "Ahora si ejecutemso el comando anterior, y verificamos con *pip freeze* que efectivamente esten instaladas estas dependencias."
   ]
  },
  {
   "cell_type": "code",
   "execution_count": 1,
   "metadata": {},
   "outputs": [
    {
     "name": "stdout",
     "output_type": "stream",
     "text": [
      "hello ML\n"
     ]
    }
   ],
   "source": [
    "import numpy as np \n",
    "import pandas as pd\n",
    "import matplotlib.pyplot as plt\n",
    "\n",
    "print('hello ML')\n"
   ]
  }
 ],
 "metadata": {
  "interpreter": {
   "hash": "33bbdf01e37c9a3c07b454deb8ef899cfdd2053164216ac6836a999fe32ef00d"
  },
  "kernelspec": {
   "display_name": "Python 3.8.10 64-bit ('env': venv)",
   "language": "python",
   "name": "python3"
  },
  "language_info": {
   "codemirror_mode": {
    "name": "ipython",
    "version": 3
   },
   "file_extension": ".py",
   "mimetype": "text/x-python",
   "name": "python",
   "nbconvert_exporter": "python",
   "pygments_lexer": "ipython3",
   "version": "3.8.10"
  },
  "orig_nbformat": 4
 },
 "nbformat": 4,
 "nbformat_minor": 2
}
