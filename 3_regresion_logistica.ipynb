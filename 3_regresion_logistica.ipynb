{
 "cells": [
  {
   "cell_type": "markdown",
   "metadata": {},
   "source": [
    "# Regresion Logistica\n",
    "\n",
    "A pesar de llevar el titulo de regresion, en realidad este es un algoritmo de clasificacion. \n",
    "\n",
    "![](./images/rlogistica.PNG)\n",
    "\n",
    "Como se observa en la parte derecha, la idea es poder predecir una linea que mejor separe una clase de la otra.\n",
    "\n",
    "Vamos a ver un ejemplo donde supondremos eres un profesor y quieras recomendar cuantas horas de estudio recomendar a los estudiantes para que aprueben el curso\n",
    "\n",
    "![](./images/rlogistica_1.PNG)\n",
    "\n",
    "En este problema particular, es encontrar parametros especificos que puedan predecir la probabilidad de aprobar. Si saca 5 o mas aprueba, de lo contrario pierde. "
   ]
  },
  {
   "cell_type": "markdown",
   "metadata": {},
   "source": [
    "## Parametros\n",
    "\n",
    "![](./images/rlogistica_2.PNG)\n",
    "\n",
    "Para este caso es un enfoque binario: pasa o no pasa, pero la regresion logistica se puede adaptar para problemas que involucran mas de dos clases."
   ]
  },
  {
   "cell_type": "markdown",
   "metadata": {},
   "source": [
    "## Matriz de Confusion\n",
    "\n",
    "Ahora preguntemonos si el modelo de regresion logistica esta funcionando bien o no. Una forma de evaluarlo es a traves de una matriz de confusion, y a partir de ella, deribar en algo concreto como Presion o Accuraccy. \n",
    "\n",
    "![](./images/rlogistica_4.PNG)"
   ]
  },
  {
   "cell_type": "markdown",
   "metadata": {},
   "source": [
    "## Ingredientes de la Regresion Logistica\n",
    "\n",
    "![](./images/rlogistica_3.PNG)"
   ]
  }
 ],
 "metadata": {
  "interpreter": {
   "hash": "33bbdf01e37c9a3c07b454deb8ef899cfdd2053164216ac6836a999fe32ef00d"
  },
  "kernelspec": {
   "display_name": "Python 3.8.10 64-bit ('env': venv)",
   "language": "python",
   "name": "python3"
  },
  "language_info": {
   "name": "python",
   "version": "3.8.10"
  },
  "orig_nbformat": 4
 },
 "nbformat": 4,
 "nbformat_minor": 2
}
