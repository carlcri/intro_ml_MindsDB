{
 "cells": [
  {
   "cell_type": "markdown",
   "id": "d7592a13",
   "metadata": {},
   "source": [
    "# Curso de Introducción a Machine Learning por MindsDB"
   ]
  },
  {
   "cell_type": "markdown",
   "id": "1848545e",
   "metadata": {},
   "source": [
    "Instructora: Natasha Seelam, PhD Head of AI/ML Research\n",
    "\n",
    "Conocimientos previos\n",
    "\n",
    "- Python\n",
    "- Pandas\n",
    "- Matplotlib\n",
    "- Probabilidad, Estadistica y Calculo"
   ]
  },
  {
   "cell_type": "markdown",
   "id": "1b240c7f",
   "metadata": {},
   "source": [
    "Objetivos del Curso\n",
    "\n",
    "- Aprender a preparar datos y visualizarlos\n",
    "- Entender diferentes algoritmos de machine learning.\n",
    "- Explorar deep learning y redes neuronales"
   ]
  },
  {
   "cell_type": "markdown",
   "id": "c1e61279",
   "metadata": {},
   "source": [
    "## ¿Qué es machine learning?"
   ]
  },
  {
   "cell_type": "markdown",
   "id": "46dc3a0c",
   "metadata": {},
   "source": [
    "Machine learning es la ciencia de usar algoritmos para identificar patrones en datos con el fin de resolver un problema de interés.\n",
    "\n",
    "Para proposito general, diremos que el objetivo de un algoritmo de ML es tomar *features* o descripores de nuestros conjunto de datos, y encontrar patrones.\n",
    "\n",
    "![](./images/ML_intro.PNG)\n",
    "\n",
    "Discutiremos mas adelante que es aprendizaje supervisado y no supervisado\n"
   ]
  },
  {
   "cell_type": "markdown",
   "id": "eadf6b6a",
   "metadata": {},
   "source": [
    "\n",
    "Machine learning es usado actualmente en la vida de todo mundo. Emails de spam cuestan a empresas cerca de \n",
    "$21 mil millones de dólares [1, 2] en 2021.\n"
   ]
  },
  {
   "cell_type": "markdown",
   "id": "e4e48658",
   "metadata": {},
   "source": [
    "### Resumen\n",
    "- Modelos de ML encuentran patrones en datos para resolver problemas.\n",
    "- Los modelos aprenden patrones de los features.\n",
    "- Machine learning (ML) es un campo en crecimiento"
   ]
  },
  {
   "cell_type": "markdown",
   "id": "d4d3a5bb",
   "metadata": {},
   "source": [
    "## Framework de CIencia de Datos, herramientas para ML\n",
    "\n",
    "\"Nuestros modelos solo seran tan buenos como nuestros datos lo sean\"\n",
    "\n",
    "Que es DATA? Son unidades de informacion a traves de diferentes observaciones, veamos el siguiente cuadro con las definiciones clave:\n",
    "\n",
    "![](./images/data.PNG)\n"
   ]
  },
  {
   "cell_type": "markdown",
   "id": "b44fca65",
   "metadata": {},
   "source": [
    "Un ejemplo de FEATURES podria ser: genero, edad, altura. Vendrian siendo algo asi como las variables estadisticas.\n",
    "\n",
    "![](./images/data1.PNG)\n",
    "\n",
    "Un *OUTLIER* o valor atipico, y en el contexto de DATA SCIENCE puede tener muchos significados: un dato real que por el hecho de ser atipico no deja de ser real, pero tambien un valor perdido o incorrecto, asi que hay que tener cuidado, y segun tu cirterio incluirlo o descartarlo del DATA SET. "
   ]
  },
  {
   "cell_type": "markdown",
   "id": "b79950b0",
   "metadata": {},
   "source": [
    "Vemos un ejemplo de un DATA SET con el cual estaremos trabajando mas adelante:\n",
    "\n",
    "![](./images/dataset.PNG)\n",
    "\n",
    "En este caso hay un *outcome* u objetivo, pero hay que dar claridad no todos los DATASETS tienen este *outcome*, lo que significa no podrias saber *a priori* lo que estas tratando de predecir. \n",
    "\n",
    "Veamos ahora los **tipos de datos**\n",
    "\n",
    "![](./images/tipos.PNG)\n",
    "\n",
    "Que es NAN? -Not a Number- es a menudo un valor perdido o corrupto o algo que es definitivamente extrano, depende de ti mirar si este es un valor perdido, o si hay algun problema con el DataSet\n"
   ]
  },
  {
   "cell_type": "markdown",
   "id": "5876d9e6",
   "metadata": {},
   "source": [
    "Veamos ahora como *Categorical Values* en un formato *Numerico* de tal forma que un modelo de ML pueda utilizarlos.\n",
    "\n",
    "![](./images/etiquetas.PNG)\n",
    "\n",
    "Podria por ejemplo representar cada estado del tiempo con un valor numerico:\n",
    "\n",
    "    Soleado = 1\n",
    "    Lluviios =2 \n",
    "    Nublado = 3\n",
    "    Nevado = 4\n",
    "\n",
    "No obstante este ultimo no es el mas usado. El mas comun es el **One hot encoding**  (OHE), que lo veremos a continuacion:\n",
    "\n",
    "![](./images/one_hot.PNG)\n",
    "\n",
    "Como ves la idea de *OHE* es crear un vector, para este ejemplo es un vector de cuatro dimensiones \n"
   ]
  },
  {
   "cell_type": "markdown",
   "id": "91a3aac4",
   "metadata": {},
   "source": [
    "Para este curso trabajaremso con la libreria **PANDAS**, aqui un breve explicacion:\n",
    "\n",
    "![](./images/pandas.PNG)"
   ]
  },
  {
   "cell_type": "code",
   "execution_count": 9,
   "id": "a8c4f352",
   "metadata": {},
   "outputs": [
    {
     "data": {
      "text/html": [
       "<div>\n",
       "<style scoped>\n",
       "    .dataframe tbody tr th:only-of-type {\n",
       "        vertical-align: middle;\n",
       "    }\n",
       "\n",
       "    .dataframe tbody tr th {\n",
       "        vertical-align: top;\n",
       "    }\n",
       "\n",
       "    .dataframe thead th {\n",
       "        text-align: right;\n",
       "    }\n",
       "</style>\n",
       "<table border=\"1\" class=\"dataframe\">\n",
       "  <thead>\n",
       "    <tr style=\"text-align: right;\">\n",
       "      <th></th>\n",
       "      <th>Pregnancies</th>\n",
       "      <th>Glucose</th>\n",
       "      <th>BloodPressure</th>\n",
       "      <th>SkinThickness</th>\n",
       "      <th>Insulin</th>\n",
       "      <th>BMI</th>\n",
       "      <th>DiabetesPedigreeFunction</th>\n",
       "      <th>Age</th>\n",
       "      <th>Outcome</th>\n",
       "    </tr>\n",
       "  </thead>\n",
       "  <tbody>\n",
       "    <tr>\n",
       "      <th>0</th>\n",
       "      <td>6</td>\n",
       "      <td>148</td>\n",
       "      <td>72</td>\n",
       "      <td>35</td>\n",
       "      <td>0</td>\n",
       "      <td>33.6</td>\n",
       "      <td>0.627</td>\n",
       "      <td>50</td>\n",
       "      <td>1</td>\n",
       "    </tr>\n",
       "    <tr>\n",
       "      <th>1</th>\n",
       "      <td>1</td>\n",
       "      <td>85</td>\n",
       "      <td>66</td>\n",
       "      <td>29</td>\n",
       "      <td>0</td>\n",
       "      <td>26.6</td>\n",
       "      <td>0.351</td>\n",
       "      <td>31</td>\n",
       "      <td>0</td>\n",
       "    </tr>\n",
       "    <tr>\n",
       "      <th>2</th>\n",
       "      <td>8</td>\n",
       "      <td>183</td>\n",
       "      <td>64</td>\n",
       "      <td>0</td>\n",
       "      <td>0</td>\n",
       "      <td>23.3</td>\n",
       "      <td>0.672</td>\n",
       "      <td>32</td>\n",
       "      <td>1</td>\n",
       "    </tr>\n",
       "    <tr>\n",
       "      <th>3</th>\n",
       "      <td>1</td>\n",
       "      <td>89</td>\n",
       "      <td>66</td>\n",
       "      <td>23</td>\n",
       "      <td>94</td>\n",
       "      <td>28.1</td>\n",
       "      <td>0.167</td>\n",
       "      <td>21</td>\n",
       "      <td>0</td>\n",
       "    </tr>\n",
       "    <tr>\n",
       "      <th>4</th>\n",
       "      <td>0</td>\n",
       "      <td>137</td>\n",
       "      <td>40</td>\n",
       "      <td>35</td>\n",
       "      <td>168</td>\n",
       "      <td>43.1</td>\n",
       "      <td>2.288</td>\n",
       "      <td>33</td>\n",
       "      <td>1</td>\n",
       "    </tr>\n",
       "  </tbody>\n",
       "</table>\n",
       "</div>"
      ],
      "text/plain": [
       "   Pregnancies  Glucose  BloodPressure  SkinThickness  Insulin   BMI  \\\n",
       "0            6      148             72             35        0  33.6   \n",
       "1            1       85             66             29        0  26.6   \n",
       "2            8      183             64              0        0  23.3   \n",
       "3            1       89             66             23       94  28.1   \n",
       "4            0      137             40             35      168  43.1   \n",
       "\n",
       "   DiabetesPedigreeFunction  Age  Outcome  \n",
       "0                     0.627   50        1  \n",
       "1                     0.351   31        0  \n",
       "2                     0.672   32        1  \n",
       "3                     0.167   21        0  \n",
       "4                     2.288   33        1  "
      ]
     },
     "execution_count": 9,
     "metadata": {},
     "output_type": "execute_result"
    }
   ],
   "source": [
    "import pandas as pd\n",
    "\n",
    "data = pd.read_csv('diabetes.csv')\n",
    "data.head()"
   ]
  },
  {
   "cell_type": "markdown",
   "id": "7cfa5690",
   "metadata": {},
   "source": [
    "*data.dtypes* es muy comun usarla para mostrar la representacion de los datos"
   ]
  },
  {
   "cell_type": "code",
   "execution_count": 10,
   "id": "76aadf1c",
   "metadata": {},
   "outputs": [
    {
     "data": {
      "text/plain": [
       "Pregnancies                   int64\n",
       "Glucose                       int64\n",
       "BloodPressure                 int64\n",
       "SkinThickness                 int64\n",
       "Insulin                       int64\n",
       "BMI                         float64\n",
       "DiabetesPedigreeFunction    float64\n",
       "Age                           int64\n",
       "Outcome                       int64\n",
       "dtype: object"
      ]
     },
     "execution_count": 10,
     "metadata": {},
     "output_type": "execute_result"
    }
   ],
   "source": [
    "data.dtypes"
   ]
  },
  {
   "cell_type": "markdown",
   "id": "ff29f3e7",
   "metadata": {},
   "source": [
    "## Visualizacion de datos\n",
    "\n",
    "Mucho antes de entrenar tus modelos de ML, es muy importante poderlos visualizar. Puede ser con un Histograma de frecuencias, o diagramas de dispersion en un primer momento.\n",
    "\n",
    "### Histogramas\n",
    "\n",
    "    Te dice qué tan “frecuentes” son ciertos valores en tus datos.\n",
    "     Requiere de ti para agrupar” los datos.\n",
    "\n",
    "### Diagramas de Dispersion\n",
    "\n",
    "    Muestra la relación entre 2 features graficándolos como pares ordenado\n",
    "    En cada eje un *Feature*\n",
    "    Te puede ayudar a detectar anomalias\n"
   ]
  },
  {
   "cell_type": "markdown",
   "id": "2d32b332",
   "metadata": {},
   "source": [
    "## concepto de bins\n",
    "\n",
    "![](./images/bins.PNG)\n",
    "\n",
    "para el caso anterior tenemos 5 bins o contenedores\n"
   ]
  },
  {
   "cell_type": "markdown",
   "id": "d6f35a85",
   "metadata": {},
   "source": [
    "# Tipos de Modelos de ML\n",
    "\n",
    "![](./images/alg_ml.PNG)\n",
    "\n",
    "## Aprendizaje supervisado\n",
    "El modelo obtiene features de entrada y salida. Hay un *target/objetivo* a predecir.\n",
    "\n",
    "1. Regresión: Target output (objetivo de salida) es **numérico**.\n",
    "2. Clasificación:Target output es una **etiqueta**. (*categorical type variable*)\n",
    "\n",
    "**EN QUE SE USA CADA UNO**\n",
    "\n",
    "![](./images/uses.PNG)\n",
    "\n",
    "\n",
    "\n"
   ]
  },
  {
   "cell_type": "markdown",
   "id": "1c89c711",
   "metadata": {},
   "source": [
    "## Aprendizaje no supervisado\n",
    "\n",
    "**Objetivo  o target desconocido**, queremos encontrar estructura y grupos dentro de los datos.\n",
    "\n",
    "1. Clustering:Queremos encontrar grupos en los datos.\n",
    "2. Dimensionality reduction: Queremos encontrar qué features de entrada en los datos son de ayuda\n",
    "\n",
    "Veamos algunas aplicaciones\n",
    "\n",
    "![](./images/ml_app.PNG)"
   ]
  },
  {
   "cell_type": "markdown",
   "id": "8642f059",
   "metadata": {},
   "source": [
    "## Que tipos de algoritmos existen para supervisado y no supervisado\n",
    "\n",
    "![](./images/alg_ml1.PNG)\n",
    "\n",
    "\n",
    "**RESUMEN**\n",
    "\n",
    "Algoritmos de machine learning generalmente son *supervisados o no supervisados*.\n",
    "\n",
    "1. Algoritmos supervisados predicen un objetivo o target. Pueden ser de *regresión o clasificación*.\n",
    "3. Algoritmos no supervisados predicen patrones o estructura en los datos. Generalmente son de *clustering o dimensionality reduction*"
   ]
  }
 ],
 "metadata": {
  "kernelspec": {
   "display_name": "Python 3 (ipykernel)",
   "language": "python",
   "name": "python3"
  },
  "language_info": {
   "codemirror_mode": {
    "name": "ipython",
    "version": 3
   },
   "file_extension": ".py",
   "mimetype": "text/x-python",
   "name": "python",
   "nbconvert_exporter": "python",
   "pygments_lexer": "ipython3",
   "version": "3.8.10"
  }
 },
 "nbformat": 4,
 "nbformat_minor": 5
}
