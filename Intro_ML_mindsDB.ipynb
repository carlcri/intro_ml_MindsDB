{
 "cells": [
  {
   "cell_type": "markdown",
   "id": "d7592a13",
   "metadata": {},
   "source": [
    "# Curso de Introducción a Machine Learning por MindsDB"
   ]
  },
  {
   "cell_type": "markdown",
   "id": "1848545e",
   "metadata": {},
   "source": [
    "Instructora: Natasha Seelam, PhD Head of AI/ML Research\n",
    "\n",
    "Conocimientos previos\n",
    "\n",
    "- Python\n",
    "- Pandas\n",
    "- Matplotlib\n",
    "- Probabilidad, Estadistica y Calculo"
   ]
  },
  {
   "cell_type": "markdown",
   "id": "1b240c7f",
   "metadata": {},
   "source": [
    "Objetivos del Curso\n",
    "\n",
    "- Aprender a preparar datos y visualizarlos\n",
    "- Entender diferentes algoritmos de machine learning.\n",
    "- Explorar deep learning y redes neuronales"
   ]
  },
  {
   "cell_type": "markdown",
   "id": "c1e61279",
   "metadata": {},
   "source": [
    "# ¿Qué es machine learning?"
   ]
  },
  {
   "cell_type": "markdown",
   "id": "46dc3a0c",
   "metadata": {},
   "source": [
    "Machine learning es la ciencia de usar algoritmos para identificar patrones en datos con el fin de resolver un problema de interés.\n",
    "\n",
    "![](./images/ML_intro.PNG)\n",
    "\n",
    "Machine learning es usado actualmente en la vida de todo mundo. Emails de spam cuestan a empresas cerca de \n",
    "$21 mil millones de dólares [1, 2] en 2021.\n"
   ]
  },
  {
   "cell_type": "markdown",
   "id": "e4e48658",
   "metadata": {},
   "source": [
    "## Resumen\n",
    "- Modelos de ML encuentran patrones en datos para resolver problemas.\n",
    "- Los modelos aprenden patrones de los features.\n",
    "- Machine learning (ML) es un campo en crecimiento"
   ]
  },
  {
   "cell_type": "code",
   "execution_count": 1,
   "id": "76aadf1c",
   "metadata": {},
   "outputs": [
    {
     "data": {
      "text/plain": [
       "2"
      ]
     },
     "execution_count": 1,
     "metadata": {},
     "output_type": "execute_result"
    }
   ],
   "source": [
    "import pandas as pd \n",
    "a = 2\n",
    "a\n"
   ]
  }
 ],
 "metadata": {
  "kernelspec": {
   "display_name": "Python 3 (ipykernel)",
   "language": "python",
   "name": "python3"
  },
  "language_info": {
   "codemirror_mode": {
    "name": "ipython",
    "version": 3
   },
   "file_extension": ".py",
   "mimetype": "text/x-python",
   "name": "python",
   "nbconvert_exporter": "python",
   "pygments_lexer": "ipython3",
   "version": "3.9.7"
  }
 },
 "nbformat": 4,
 "nbformat_minor": 5
}
