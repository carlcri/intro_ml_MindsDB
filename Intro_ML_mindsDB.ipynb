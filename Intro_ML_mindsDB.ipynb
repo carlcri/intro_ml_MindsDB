{
 "cells": [
  {
   "cell_type": "markdown",
   "id": "d7592a13",
   "metadata": {},
   "source": [
    "# Curso de Introducción a Machine Learning por MindsDB"
   ]
  },
  {
   "cell_type": "markdown",
   "id": "1848545e",
   "metadata": {},
   "source": [
    "Instructora: Natasha Seelam, PhD Head of AI/ML Research\n",
    "\n",
    "Conocimientos previos\n",
    "\n",
    "- Python\n",
    "- Pandas\n",
    "- Matplotlib\n",
    "- Probabilidad, Estadistica y Calculo"
   ]
  },
  {
   "cell_type": "markdown",
   "id": "1b240c7f",
   "metadata": {},
   "source": [
    "Objetivos del Curso\n",
    "\n",
    "- Aprender a preparar datos y visualizarlos\n",
    "- Entender diferentes algoritmos de machine learning.\n",
    "- Explorar deep learning y redes neuronales"
   ]
  },
  {
   "cell_type": "markdown",
   "id": "c1e61279",
   "metadata": {},
   "source": [
    "# ¿Qué es machine learning?"
   ]
  },
  {
   "cell_type": "markdown",
   "id": "46dc3a0c",
   "metadata": {},
   "source": [
    "Machine learning es la ciencia de usar algoritmos para identificar patrones en datos con el fin de resolver un problema de interés.\n",
    "\n",
    "![Aprendizaje](ML_intro.PNG)\n",
    "\n",
    "Machine learning es usado actualmente en la vida de todo mundo. Emails de spam cuestan a empresas cerca de \n",
    "$21 mil millones de dólares [1, 2] en 2021.\n"
   ]
  }
 ],
 "metadata": {
  "kernelspec": {
   "display_name": "Python 3 (ipykernel)",
   "language": "python",
   "name": "python3"
  },
  "language_info": {
   "codemirror_mode": {
    "name": "ipython",
    "version": 3
   },
   "file_extension": ".py",
   "mimetype": "text/x-python",
   "name": "python",
   "nbconvert_exporter": "python",
   "pygments_lexer": "ipython3",
   "version": "3.9.7"
  }
 },
 "nbformat": 4,
 "nbformat_minor": 5
}
